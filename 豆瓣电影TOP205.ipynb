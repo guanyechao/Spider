{
 "cells": [
  {
   "cell_type": "markdown",
   "metadata": {},
   "source": [
    "# 豆瓣电影TOP250\n",
    "- 三方库：\n",
    "    -  ` requests parsel `\n",
    "    -  ` pip install parsel `\n",
    "- 网页分析：\n",
    "    - 第一页：https://movie.douban.com/top250?start=0&filter=\n",
    "    - 第二页：https://movie.douban.com/top250?start=25&filter=\n",
    "    - 第三页：https://movie.douban.com/top250?start=50&filter=\n",
    "    - 构造url：url = 'https://movie.douban.com/top250?start={}&filter='.format(i)\n",
    "    "
   ]
  },
  {
   "cell_type": "code",
   "execution_count": 1,
   "metadata": {
    "scrolled": true
   },
   "outputs": [],
   "source": [
    "import requests,parsel"
   ]
  },
  {
   "cell_type": "code",
   "execution_count": 2,
   "metadata": {},
   "outputs": [],
   "source": [
    "# 爬取第一页的信息\n",
    "url = 'https://movie.douban.com/top250?start=0&filter='\n",
    "# 请求头\n",
    "headers = {\n",
    "   'User-Agent': 'Mozilla/5.0 (Windows NT 10.0; Win64; x64) AppleWebKit/537.36 (KHTML, like Gecko) Chrome/70.0.3538.102 Safari/537.36 Edge/18.18362'}\n",
    "# 发送get请求\n",
    "r = requests.get(url,headers = headers)\n",
    "# 解析网页\n",
    "html = parsel.Selector(r.text)\n",
    "# 电源名字（中文）\n",
    "movie_names_zh = html.xpath('//div[@class=\"info\"]/div[@class=\"hd\"]/a/span[@class=\"title\"][1]/text()').extract()\n",
    "# 电影名字（英文）\n",
    "movie_names_en = html.xpath('//div[@class=\"info\"]/div[@class=\"hd\"]/a/span[@class=\"title\"][2]/text()').extract()\n",
    "# 电影评分：\n",
    "rating_nums1 = html.xpath('//div[@class=\"star\"]/span[@class=\"rating_num\"]/text()').extract()\n",
    "# 电影评论人数：\n",
    "rating_nums2 = html.xpath('//div[@class=\"star\"]/span[4]/text()').extract()"
   ]
  },
  {
   "cell_type": "code",
   "execution_count": 3,
   "metadata": {},
   "outputs": [
    {
     "name": "stdout",
     "output_type": "stream",
     "text": [
      "<zip object at 0x000001C973CE8248>\n"
     ]
    }
   ],
   "source": [
    "print(zip(movie_names_zh,movie_names_en,rating_nums1,rating_nums2))"
   ]
  },
  {
   "cell_type": "code",
   "execution_count": 4,
   "metadata": {},
   "outputs": [
    {
     "name": "stdout",
     "output_type": "stream",
     "text": [
      "[('肖申克的救赎', '\\xa0/\\xa0The Shawshank Redemption', '9.7', '1981964人评价'), ('霸王别姬', '\\xa0/\\xa0Forrest Gump', '9.6', '1466594人评价'), ('阿甘正传', '\\xa0/\\xa0Léon', '9.5', '1502559人评价'), ('这个杀手不太冷', '\\xa0/\\xa0La vita è bella', '9.4', '1696348人评价'), ('美丽人生', '\\xa0/\\xa0Titanic', '9.5', '947714人评价'), ('泰坦尼克号', '\\xa0/\\xa0千と千尋の神隠し', '9.4', '1450471人评价'), ('千与千寻', \"\\xa0/\\xa0Schindler's List\", '9.4', '1551806人评价'), ('辛德勒的名单', '\\xa0/\\xa0Inception', '9.5', '766569人评价'), ('盗梦空间', \"\\xa0/\\xa0Hachi: A Dog's Tale\", '9.3', '1440335人评价'), ('忠犬八公的故事', \"\\xa0/\\xa0La leggenda del pianista sull'oceano\", '9.4', '997268人评价'), ('海上钢琴师', '\\xa0/\\xa0The Truman Show', '9.3', '1199518人评价'), ('楚门的世界', '\\xa0/\\xa03 Idiots', '9.3', '1063777人评价'), ('三傻大闹宝莱坞', '\\xa0/\\xa0WALL·E', '9.2', '1331035人评价'), ('机器人总动员', '\\xa0/\\xa0Les choristes', '9.3', '949831人评价'), ('放牛班的春天', '\\xa0/\\xa0Interstellar', '9.3', '926485人评价'), ('星际穿越', '\\xa0/\\xa0西遊記大結局之仙履奇緣', '9.3', '1070232人评价'), ('大话西游之大圣娶亲', '\\xa0/\\xa0도가니', '9.2', '1049225人评价'), ('熔炉', '\\xa0/\\xa0Zootopia', '9.3', '645266人评价'), ('疯狂动物城', '\\xa0/\\xa0無間道', '9.2', '1248940人评价'), ('无间道', '\\xa0/\\xa0となりのトトロ', '9.2', '854051人评价'), ('龙猫', '\\xa0/\\xa0The Godfather', '9.2', '891717人评价'), ('教父', '\\xa0/\\xa0The Pursuit of Happyness', '9.3', '651518人评价'), ('当幸福来敲门', '\\xa0/\\xa0Flipped', '9.1', '1064740人评价'), ('怦然心动', '\\xa0/\\xa0Intouchables', '9.1', '1235529人评价')]\n"
     ]
    }
   ],
   "source": [
    "print([*zip(movie_names_zh,movie_names_en,rating_nums1,rating_nums2)])"
   ]
  },
  {
   "cell_type": "code",
   "execution_count": 6,
   "metadata": {},
   "outputs": [
    {
     "name": "stdout",
     "output_type": "stream",
     "text": [
      "[('肖申克的救赎', '\\xa0/\\xa0The Shawshank Redemption', '9.7', '1981964人评价'), ('霸王别姬', '\\xa0/\\xa0Forrest Gump', '9.6', '1466594人评价'), ('阿甘正传', '\\xa0/\\xa0Léon', '9.5', '1502559人评价'), ('这个杀手不太冷', '\\xa0/\\xa0La vita è bella', '9.4', '1696348人评价'), ('美丽人生', '\\xa0/\\xa0Titanic', '9.5', '947714人评价'), ('泰坦尼克号', '\\xa0/\\xa0千と千尋の神隠し', '9.4', '1450471人评价'), ('千与千寻', \"\\xa0/\\xa0Schindler's List\", '9.4', '1551806人评价'), ('辛德勒的名单', '\\xa0/\\xa0Inception', '9.5', '766569人评价'), ('盗梦空间', \"\\xa0/\\xa0Hachi: A Dog's Tale\", '9.3', '1440335人评价'), ('忠犬八公的故事', \"\\xa0/\\xa0La leggenda del pianista sull'oceano\", '9.4', '997268人评价'), ('海上钢琴师', '\\xa0/\\xa0The Truman Show', '9.3', '1199518人评价'), ('楚门的世界', '\\xa0/\\xa03 Idiots', '9.3', '1063777人评价'), ('三傻大闹宝莱坞', '\\xa0/\\xa0WALL·E', '9.2', '1331035人评价'), ('机器人总动员', '\\xa0/\\xa0Les choristes', '9.3', '949831人评价'), ('放牛班的春天', '\\xa0/\\xa0Interstellar', '9.3', '926485人评价'), ('星际穿越', '\\xa0/\\xa0西遊記大結局之仙履奇緣', '9.3', '1070232人评价'), ('大话西游之大圣娶亲', '\\xa0/\\xa0도가니', '9.2', '1049225人评价'), ('熔炉', '\\xa0/\\xa0Zootopia', '9.3', '645266人评价'), ('疯狂动物城', '\\xa0/\\xa0無間道', '9.2', '1248940人评价'), ('无间道', '\\xa0/\\xa0となりのトトロ', '9.2', '854051人评价'), ('龙猫', '\\xa0/\\xa0The Godfather', '9.2', '891717人评价'), ('教父', '\\xa0/\\xa0The Pursuit of Happyness', '9.3', '651518人评价'), ('当幸福来敲门', '\\xa0/\\xa0Flipped', '9.1', '1064740人评价'), ('怦然心动', '\\xa0/\\xa0Intouchables', '9.1', '1235529人评价')]\n"
     ]
    }
   ],
   "source": [
    "print(list(zip(movie_names_zh,movie_names_en,rating_nums1,rating_nums2)))"
   ]
  },
  {
   "cell_type": "code",
   "execution_count": 13,
   "metadata": {},
   "outputs": [
    {
     "data": {
      "text/plain": [
       "0     (肖申克的救赎,  / The Shawshank Redemption, 9.7, 198...\n",
       "1              (霸王别姬,  / Forrest Gump, 9.6, 1466594人评价)\n",
       "2                      (阿甘正传,  / Léon, 9.5, 1502559人评价)\n",
       "3        (这个杀手不太冷,  / La vita è bella, 9.4, 1696348人评价)\n",
       "4                    (美丽人生,  / Titanic, 9.5, 947714人评价)\n",
       "5                 (泰坦尼克号,  / 千と千尋の神隠し, 9.4, 1450471人评价)\n",
       "6          (千与千寻,  / Schindler's List, 9.4, 1551806人评价)\n",
       "7                (辛德勒的名单,  / Inception, 9.5, 766569人评价)\n",
       "8       (盗梦空间,  / Hachi: A Dog's Tale, 9.3, 1440335人评价)\n",
       "9     (忠犬八公的故事,  / La leggenda del pianista sull'oce...\n",
       "10         (海上钢琴师,  / The Truman Show, 9.3, 1199518人评价)\n",
       "11                (楚门的世界,  / 3 Idiots, 9.3, 1063777人评价)\n",
       "12                (三傻大闹宝莱坞,  / WALL·E, 9.2, 1331035人评价)\n",
       "13           (机器人总动员,  / Les choristes, 9.3, 949831人评价)\n",
       "14            (放牛班的春天,  / Interstellar, 9.3, 926485人评价)\n",
       "15              (星际穿越,  / 西遊記大結局之仙履奇緣, 9.3, 1070232人评价)\n",
       "16                 (大话西游之大圣娶亲,  / 도가니, 9.2, 1049225人评价)\n",
       "17                    (熔炉,  / Zootopia, 9.3, 645266人评价)\n",
       "18                     (疯狂动物城,  / 無間道, 9.2, 1248940人评价)\n",
       "19                    (无间道,  / となりのトトロ, 9.2, 854051人评价)\n",
       "20               (龙猫,  / The Godfather, 9.2, 891717人评价)\n",
       "21    (教父,  / The Pursuit of Happyness, 9.3, 651518人评价)\n",
       "22                (当幸福来敲门,  / Flipped, 9.1, 1064740人评价)\n",
       "23             (怦然心动,  / Intouchables, 9.1, 1235529人评价)\n",
       "dtype: object"
      ]
     },
     "execution_count": 13,
     "metadata": {},
     "output_type": "execute_result"
    }
   ],
   "source": [
    "import pandas as pd\n",
    "pd.Series(list(zip(movie_names_zh,movie_names_en,rating_nums1,rating_nums2)))"
   ]
  },
  {
   "cell_type": "code",
   "execution_count": 14,
   "metadata": {},
   "outputs": [
    {
     "name": "stdout",
     "output_type": "stream",
     "text": [
      "霸王别姬 ***** 阿甘正传\n"
     ]
    }
   ],
   "source": [
    "print(movie_names_zh[1],'*****',movie_names_zh[2])"
   ]
  },
  {
   "cell_type": "code",
   "execution_count": 15,
   "metadata": {},
   "outputs": [
    {
     "name": "stdout",
     "output_type": "stream",
     "text": [
      " / Forrest Gump *****  / Léon\n"
     ]
    }
   ],
   "source": [
    "print(movie_names_en[1],'*****',movie_names_en[2])"
   ]
  },
  {
   "cell_type": "code",
   "execution_count": 22,
   "metadata": {},
   "outputs": [
    {
     "data": {
      "text/markdown": [
       "1. 获取每部电影的url  \n",
       "2. 根据电影url获取电影的排名、电影名字、导演、编剧、主演、电影类型、制片国家、语言、片长、评分、评分占比\n"
      ],
      "text/plain": [
       "<IPython.core.display.Markdown object>"
      ]
     },
     "metadata": {},
     "output_type": "display_data"
    }
   ],
   "source": [
    "%%markdown\n",
    "1. 获取每部电影的url  \n",
    "2. 根据电影url获取电影的排名、电影名字、导演、编剧、主演、电影类型、制片国家、语言、片长、评分、评分占比"
   ]
  },
  {
   "cell_type": "code",
   "execution_count": 43,
   "metadata": {
    "scrolled": true
   },
   "outputs": [
    {
     "name": "stdout",
     "output_type": "stream",
     "text": [
      "开始爬取1页的数据...\n",
      "HTTPSConnectionPool(host='movie.douban.com', port=443): Max retries exceeded with url: /top250?start=0&filter= (Caused by NewConnectionError('<urllib3.connection.VerifiedHTTPSConnection object at 0x0000028A93794088>: Failed to establish a new connection: [WinError 10060] 由于连接方在一段时间后没有正确答复或连接的主机没有反应，连接尝试失败。'))\n"
     ]
    },
    {
     "ename": "UnboundLocalError",
     "evalue": "local variable 'html' referenced before assignment",
     "output_type": "error",
     "traceback": [
      "\u001b[1;31m---------------------------------------------------------------------------\u001b[0m",
      "\u001b[1;31mUnboundLocalError\u001b[0m                         Traceback (most recent call last)",
      "\u001b[1;32m<ipython-input-43-e613851d2d68>\u001b[0m in \u001b[0;36m<module>\u001b[1;34m\u001b[0m\n\u001b[0;32m    106\u001b[0m \u001b[1;31m#         get_html(url,headers)\u001b[0m\u001b[1;33m\u001b[0m\u001b[1;33m\u001b[0m\u001b[1;33m\u001b[0m\u001b[0m\n\u001b[0;32m    107\u001b[0m \u001b[1;31m#         get_movie_url()\u001b[0m\u001b[1;33m\u001b[0m\u001b[1;33m\u001b[0m\u001b[1;33m\u001b[0m\u001b[0m\n\u001b[1;32m--> 108\u001b[1;33m         \u001b[0mget_content\u001b[0m\u001b[1;33m(\u001b[0m\u001b[1;33m)\u001b[0m\u001b[1;33m\u001b[0m\u001b[1;33m\u001b[0m\u001b[0m\n\u001b[0m\u001b[0;32m    109\u001b[0m         \u001b[0mprint\u001b[0m\u001b[1;33m(\u001b[0m\u001b[1;34mf\"第{i+1}页数据已经爬取成功\"\u001b[0m\u001b[1;33m)\u001b[0m\u001b[1;33m\u001b[0m\u001b[1;33m\u001b[0m\u001b[0m\n",
      "\u001b[1;32m<ipython-input-43-e613851d2d68>\u001b[0m in \u001b[0;36mget_content\u001b[1;34m()\u001b[0m\n\u001b[0;32m     29\u001b[0m \u001b[1;31m# 获取内容\u001b[0m\u001b[1;33m\u001b[0m\u001b[1;33m\u001b[0m\u001b[1;33m\u001b[0m\u001b[0m\n\u001b[0;32m     30\u001b[0m \u001b[1;32mdef\u001b[0m \u001b[0mget_content\u001b[0m\u001b[1;33m(\u001b[0m\u001b[1;33m)\u001b[0m\u001b[1;33m:\u001b[0m\u001b[1;33m\u001b[0m\u001b[1;33m\u001b[0m\u001b[0m\n\u001b[1;32m---> 31\u001b[1;33m     \u001b[1;32mfor\u001b[0m \u001b[0murl\u001b[0m \u001b[1;32min\u001b[0m \u001b[0mget_movie_url\u001b[0m\u001b[1;33m(\u001b[0m\u001b[1;33m)\u001b[0m\u001b[1;33m:\u001b[0m\u001b[1;33m\u001b[0m\u001b[1;33m\u001b[0m\u001b[0m\n\u001b[0m\u001b[0;32m     32\u001b[0m         \u001b[0mprint\u001b[0m\u001b[1;33m(\u001b[0m\u001b[0murl\u001b[0m\u001b[1;33m)\u001b[0m\u001b[1;33m\u001b[0m\u001b[1;33m\u001b[0m\u001b[0m\n\u001b[0;32m     33\u001b[0m         \u001b[1;31m# 电影排名\u001b[0m\u001b[1;33m\u001b[0m\u001b[1;33m\u001b[0m\u001b[1;33m\u001b[0m\u001b[0m\n",
      "\u001b[1;32m<ipython-input-43-e613851d2d68>\u001b[0m in \u001b[0;36mget_movie_url\u001b[1;34m()\u001b[0m\n\u001b[0;32m     23\u001b[0m \u001b[1;31m# 获取每部电影的url\u001b[0m\u001b[1;33m\u001b[0m\u001b[1;33m\u001b[0m\u001b[1;33m\u001b[0m\u001b[0m\n\u001b[0;32m     24\u001b[0m \u001b[1;32mdef\u001b[0m \u001b[0mget_movie_url\u001b[0m\u001b[1;33m(\u001b[0m\u001b[1;33m)\u001b[0m\u001b[1;33m:\u001b[0m\u001b[1;33m\u001b[0m\u001b[1;33m\u001b[0m\u001b[0m\n\u001b[1;32m---> 25\u001b[1;33m     \u001b[0mm_urls\u001b[0m \u001b[1;33m=\u001b[0m \u001b[0mget_html\u001b[0m\u001b[1;33m(\u001b[0m\u001b[0murl\u001b[0m\u001b[1;33m,\u001b[0m\u001b[0mheaders\u001b[0m\u001b[1;33m)\u001b[0m\u001b[1;33m.\u001b[0m\u001b[0mxpath\u001b[0m\u001b[1;33m(\u001b[0m\u001b[1;34m'//*[@id=\"content\"]/div/div[1]/ol/li/div/div[2]/div[1]/a/@href'\u001b[0m\u001b[1;33m)\u001b[0m\u001b[1;33m.\u001b[0m\u001b[0mextract\u001b[0m\u001b[1;33m(\u001b[0m\u001b[1;33m)\u001b[0m\u001b[1;33m\u001b[0m\u001b[1;33m\u001b[0m\u001b[0m\n\u001b[0m\u001b[0;32m     26\u001b[0m     \u001b[0mprint\u001b[0m\u001b[1;33m(\u001b[0m \u001b[0mlen\u001b[0m\u001b[1;33m(\u001b[0m\u001b[0mm_urls\u001b[0m\u001b[1;33m)\u001b[0m\u001b[1;33m,\u001b[0m\u001b[0mm_urls\u001b[0m \u001b[1;33m)\u001b[0m\u001b[1;33m\u001b[0m\u001b[1;33m\u001b[0m\u001b[0m\n\u001b[0;32m     27\u001b[0m     \u001b[1;32mreturn\u001b[0m \u001b[0mm_urls\u001b[0m\u001b[1;33m\u001b[0m\u001b[1;33m\u001b[0m\u001b[0m\n",
      "\u001b[1;32m<ipython-input-43-e613851d2d68>\u001b[0m in \u001b[0;36mget_html\u001b[1;34m(url, headers)\u001b[0m\n\u001b[0;32m     19\u001b[0m     \u001b[1;32mexcept\u001b[0m \u001b[0mException\u001b[0m \u001b[1;32mas\u001b[0m \u001b[0me\u001b[0m\u001b[1;33m:\u001b[0m\u001b[1;33m\u001b[0m\u001b[1;33m\u001b[0m\u001b[0m\n\u001b[0;32m     20\u001b[0m         \u001b[0mprint\u001b[0m\u001b[1;33m(\u001b[0m\u001b[0me\u001b[0m\u001b[1;33m)\u001b[0m\u001b[1;33m\u001b[0m\u001b[1;33m\u001b[0m\u001b[0m\n\u001b[1;32m---> 21\u001b[1;33m     \u001b[1;32mreturn\u001b[0m \u001b[0mhtml\u001b[0m\u001b[1;33m\u001b[0m\u001b[1;33m\u001b[0m\u001b[0m\n\u001b[0m\u001b[0;32m     22\u001b[0m \u001b[1;33m\u001b[0m\u001b[0m\n\u001b[0;32m     23\u001b[0m \u001b[1;31m# 获取每部电影的url\u001b[0m\u001b[1;33m\u001b[0m\u001b[1;33m\u001b[0m\u001b[1;33m\u001b[0m\u001b[0m\n",
      "\u001b[1;31mUnboundLocalError\u001b[0m: local variable 'html' referenced before assignment"
     ]
    }
   ],
   "source": [
    "import requests,parsel,time\n",
    "import pandas as pd\n",
    "# from requests.packages.urllib3.exceptions import InsecureRequestWarning \n",
    "# requests.packages.urllib3.disable_warnings(InsecureRequestWarning)\n",
    "# # 爬取第一页的信息\n",
    "# url = 'https://movie.douban.com/top250?start=0&filter='\n",
    "# # 请求头\n",
    "# headers = {\n",
    "#    'User-Agent': 'Mozilla/5.0 (Windows NT 10.0; Win64; x64) AppleWebKit/537.36 (KHTML, like Gecko) Chrome/70.0.3538.102 Safari/537.36 Edge/18.18362',\n",
    "#    \"Connection\": \"Keep-Alive\"\n",
    "# }\n",
    "# 网页解析\n",
    "def get_html(url,headers):\n",
    "    try:\n",
    "#         r = requests.get(url,headers = headers,verify=False)\n",
    "        r = requests.get(url,headers = headers)\n",
    "    # 解析网页\n",
    "        html = parsel.Selector(r.text)\n",
    "    except Exception as e:\n",
    "        print(e)      \n",
    "    return html\n",
    "\n",
    "# 获取每部电影的url\n",
    "def get_movie_url():\n",
    "    m_urls = get_html(url,headers).xpath('//*[@id=\"content\"]/div/div[1]/ol/li/div/div[2]/div[1]/a/@href').extract()\n",
    "    print( len(m_urls),m_urls )\n",
    "    return m_urls\n",
    "    \n",
    "# 获取内容\n",
    "def get_content():\n",
    "    for url in get_movie_url():\n",
    "        print(url)\n",
    "        # 电影排名\n",
    "        m_no = get_html(url,headers=headers).xpath('//*[@id=\"content\"]/div[1]/span[1]/text()').extract()\n",
    "        # 电影名字\n",
    "        m_name = get_html(url,headers=headers).xpath('//*[@id=\"content\"]/h1/span[1]/text()').extract()\n",
    "        # 获取info标签\n",
    "        infos = get_html(url,headers=headers).xpath('//*[@id=\"info\"]')\n",
    "        for info in infos:  \n",
    "            # 电影导演\n",
    "            m_director = info.xpath('span[1]/span[@class=\"attrs\"]/a[@rel=\"v:directedBy\"]/text()').extract()\n",
    "            # 电影编剧\n",
    "#         m_scriptwriter  = get_html(url,headers=headers).xpath('//*[@id=\"info\"]/span[2]/span[@class=\"p1\"]/span[@clss=\"attrs\"]/a/text()').extract()\n",
    "            m_scriptwriter = info.xpath('span[2]/span[2]/a/text()').extract()\n",
    "            # 电影主演\n",
    "#         m_actor = get_html(url,headers=headers).xpath('//*[@id=\"info\"]/span[@class=\"actor\"]/text()').extract()\n",
    "            m_actor = info.xpath('span[@class=\"actor\"]/span/a/text()').extract()\n",
    "            # 电影类型\n",
    "#             m_type = get_html(url,headers=headers).xpath('//*[@id=\"info\"]/span[@property=\"v:genre\"]/text()').extract()\n",
    "            m_type = info.xpath('span[@property=\"v:genre\"]/text()').extract()\n",
    "            # 电影制片国家\n",
    "#         m_country = get_html(url,headers=headers).xpath('//*[@id=\"info\"]/span[8]/text()').extract()\n",
    "            m_country = info.xpath('./text()[8]').extract()\n",
    "    \n",
    "            # 电影语言\n",
    "#         m_language = get_html(url,headers=headers).xpath('//*[@id=\"info\"]//span[9]/text()').extract()\n",
    "            m_language = info.xpath('./text()[10]').extract()\n",
    "            # 电影片长\n",
    "            m_time = info.xpath('span[@property=\"v:runtime\"]/text()').extract()\n",
    "            \n",
    "            \n",
    "        # 平均人数\n",
    "#         rating_people = get_html(url,headers=headers).xpath('//*[@id=\"interest_sectl\"]/div[@class=\"rating_sum\"]/a[@class=\"rating_people\"]/span/text()').extract()\n",
    "        rating_people = get_html(url,headers=headers).xpath('//*[@id=\"interest_sectl\"]/div[1]/div[2]/div/div[2]/a/span/text()').extract()\n",
    "        # 电影评分\n",
    "#         m_star = get_html(url,headers=headers).xpath('//*[@id=\"interest_sectl\"]//strong[@property=\"v:average\"]/text()').extract()\n",
    "        m_star = get_html(url,headers=headers).xpath('//*[@id=\"interest_sectl\"]/div[1]/div[2]/strong/text()').extract()\n",
    "        # 电影评分占比\n",
    "        m_star5 = get_html(url,headers=headers).xpath('//*[@id=\"interest_sectl\"]/div[1]/div[3]/div[1]/span[2]/text()').extract()\n",
    "        m_star4 = get_html(url,headers=headers).xpath('//*[@id=\"interest_sectl\"]/div[1]/div[3]/div[2]/span[2]/text()').extract()\n",
    "        m_star3 = get_html(url,headers=headers).xpath('//*[@id=\"interest_sectl\"]/div[1]/div[3]/div[3]/span[2]/text()').extract()\n",
    "        m_star2 = get_html(url,headers=headers).xpath('//*[@id=\"interest_sectl\"]/div[1]/div[3]/div[4]/span[2]/text()').extract()\n",
    "        m_star1 = get_html(url,headers=headers).xpath('//*[@id=\"interest_sectl\"]/div[1]/div[3]/div[5]/span[2]/text()').extract()\n",
    "#         print(m_name,m_scriptwriter,m_actor,m_type,m_country,m_language,m_time,m_star)\n",
    "#         print(m_name,m_type,m_country,m_language,m_time,m_star)\n",
    "        result = {\"电影排名\":m_no,\n",
    "                  \"电影名字\":m_name,\n",
    "                  \"电影导演\":m_director,\n",
    "                  \"电影编剧\":m_scriptwriter,\n",
    "                  \"电影主演\":m_actor,\n",
    "                  \"电影类型\":m_type,\n",
    "                  \"电影地区\":m_country,\n",
    "                  \"电影语言\":m_language,\n",
    "                  \"电影时长\":m_time,\n",
    "                  \"评价人数\":rating_people,\n",
    "                  \"电影评分\":m_star,\n",
    "                  \"评分占比\":{\"*\":m_star1,\"**\":m_star2,\"***\":m_star3,\"****\":m_star4,\"*****\":m_star5}\n",
    "                 }\n",
    "        print(result)\n",
    "        time.sleep(2)\n",
    "        return result\n",
    "    \n",
    "def save_data(result):\n",
    "    df_all = pd.DataFrame(result).to_excel(\"豆瓣电影TOP250.xlsx\",index=False)\n",
    "if __name__ == '__main__':\n",
    "    # 构造10页数据\n",
    "    for i in range(10):\n",
    "        # 网址构造\n",
    "        url = 'https://movie.douban.com/top250?start={}&filter='.format(i*25)\n",
    "        # 请求头\n",
    "        headers = {\n",
    "                  'User-Agent': 'Mozilla/5.0 (Windows NT 10.0; Win64; x64) AppleWebKit/537.36 (KHTML, like Gecko) Chrome/70.0.3538.102 Safari/537.36 Edge/18.18362',\n",
    "                  \"Connection\": \"Keep-Alive\"\n",
    "                   }\n",
    "        print(f\"开始爬取{i+1}页的数据...\")\n",
    "#         get_html(url,headers)\n",
    "#         get_movie_url()\n",
    "        get_content()\n",
    "        print(f\"第{i+1}页数据已经爬取成功\")"
   ]
  },
  {
   "cell_type": "code",
   "execution_count": null,
   "metadata": {},
   "outputs": [],
   "source": []
  },
  {
   "cell_type": "code",
   "execution_count": null,
   "metadata": {},
   "outputs": [],
   "source": []
  }
 ],
 "metadata": {
  "kernelspec": {
   "display_name": "Python 3",
   "language": "python",
   "name": "python3"
  },
  "language_info": {
   "codemirror_mode": {
    "name": "ipython",
    "version": 3
   },
   "file_extension": ".py",
   "mimetype": "text/x-python",
   "name": "python",
   "nbconvert_exporter": "python",
   "pygments_lexer": "ipython3",
   "version": "3.7.4"
  },
  "toc": {
   "base_numbering": 1,
   "nav_menu": {},
   "number_sections": true,
   "sideBar": true,
   "skip_h1_title": false,
   "title_cell": "Table of Contents",
   "title_sidebar": "Contents",
   "toc_cell": false,
   "toc_position": {},
   "toc_section_display": true,
   "toc_window_display": false
  }
 },
 "nbformat": 4,
 "nbformat_minor": 2
}
