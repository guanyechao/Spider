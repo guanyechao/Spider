{
 "cells": [
  {
   "cell_type": "markdown",
   "metadata": {},
   "source": [
    "# 基于项目的虚拟环境管理\n",
    "### 创建虚拟环境\n",
    "- 先创建一个文件夹，如我在目录  **`E:\\PythonProject\\venv `** 中创建一个 **` spyder `** 文件夹<br>\n",
    "- 输入命令：<br>\n",
    "    **` pipenv --two `**   &nbsp;&nbsp;&emsp;&emsp; <font color = '#0aa344'>创建python2版本的虚拟环境</font><br>\n",
    "    **` pipenv --three `**  &nbsp;&emsp; <font color = '#0aa344'>创建python3版本的虚拟环境</font><br>\n",
    "    *  键盘敲 **` Ctrl + R `** 进入CMD窗口，输入 **` cd E:\\PythonProject\\venv\\spyder `** 切换到你想新建虚拟环境的文件<br>\n",
    "    *  输入虚拟机创建命令：` pipenv --three `\n",
    "    *  此时，在 **` spyder `** 文件夹下面就生成了一个   **` Pipfile `** 文件，代表虚拟环境创建成功<br>\n",
    "- 查看相关信息：\n",
    "    * 查看项目位置： **` pipenv --where `** <br>\n",
    "    * 查看虚拟机环境位置： **` pipenv --venv `** <br>\n",
    "    * 查看解释器信息： **` pipenv --py `**\n",
    "    \n",
    "### 激活虚拟环境\n",
    "- 激活虚拟环境命令： **` pipenv shell `**\n",
    "    * 进入项目目录下:**`E:\\PythonProject\\venv\\spyder `** <br>\n",
    "    * 输入： **` pipenv shell `**\n",
    "    * 激活成功后CMD窗口就会出现pipenv shell\n",
    "    \n",
    "### 该干啥干啥\n",
    "- 执行代码\n",
    "    * 创建一个python文件: **` temp.py `**\n",
    "    * 在虚拟环境中输入： **` python temp.py `**\n",
    "- 安装包\n",
    "    * 安装命令：**` pipenv install [三方库名] `**\n",
    "    * 作用效果\n",
    "        - 通过命令 **` pipenv --venv `** 检测当前项目对应的虚拟环境是否存在，不存在则创建\n",
    "        - 在虚拟环境中安装的第三方库，如果没指定，则不安装\n",
    "        - 在项目目录下，通过 **` Pipfile `** 和 **` Pipfile.lock `** 记录当下已经安装的库\n",
    "    * **<font color = red>注意： </font>不要使用 `pip install`**，虽然在虚拟环境中安装对应的包，但是不会更新 **` Pipfile `** 和 **` Pipfile.lock `**\n",
    "- 查看包的依赖结构\n",
    "    * 输入命令：**` pipenv graph `** 查看\n",
    "- 卸载包\n",
    "    * 输入命令：**` pipenv uninstall [三方库名] `**卸载\n",
    "    \n",
    "### 退出虚拟环境\n",
    "- 直接输入命令：**` exit `** 或直接关闭 **` shell `窗口** 即可\n",
    "\n",
    "### 删除虚拟环境\n",
    "- 进入项目所对应的的虚拟环境，输入命令：**` pipenv --rm `** 即可"
   ]
  },
  {
   "cell_type": "code",
   "execution_count": null,
   "metadata": {},
   "outputs": [],
   "source": []
  }
 ],
 "metadata": {
  "kernelspec": {
   "display_name": "Python 3",
   "language": "python",
   "name": "python3"
  },
  "language_info": {
   "codemirror_mode": {
    "name": "ipython",
    "version": 3
   },
   "file_extension": ".py",
   "mimetype": "text/x-python",
   "name": "python",
   "nbconvert_exporter": "python",
   "pygments_lexer": "ipython3",
   "version": "3.7.6"
  },
  "toc": {
   "base_numbering": 1,
   "nav_menu": {},
   "number_sections": true,
   "sideBar": true,
   "skip_h1_title": false,
   "title_cell": "Table of Contents",
   "title_sidebar": "Contents",
   "toc_cell": false,
   "toc_position": {},
   "toc_section_display": true,
   "toc_window_display": true
  }
 },
 "nbformat": 4,
 "nbformat_minor": 4
}
